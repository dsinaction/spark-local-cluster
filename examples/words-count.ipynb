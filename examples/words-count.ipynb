{
 "cells": [
  {
   "cell_type": "markdown",
   "id": "93648e79",
   "metadata": {},
   "source": [
    "# Words Count - Apache Spark\n",
    "\n",
    "**Data Science In Action**\n",
    "\n",
    "https://dsinaction.pl/index.php/2021/08/15/apache-spark-docker-local-cluster-mode/"
   ]
  },
  {
   "cell_type": "markdown",
   "id": "cb9e2352",
   "metadata": {},
   "source": [
    "## Setup"
   ]
  },
  {
   "cell_type": "code",
   "execution_count": 1,
   "id": "65d1a473",
   "metadata": {},
   "outputs": [],
   "source": [
    "from pyspark.sql import SparkSession"
   ]
  },
  {
   "cell_type": "markdown",
   "id": "a0280817",
   "metadata": {},
   "source": [
    "## Spark Session"
   ]
  },
  {
   "cell_type": "code",
   "execution_count": 2,
   "id": "0c35f14d",
   "metadata": {},
   "outputs": [
    {
     "name": "stderr",
     "output_type": "stream",
     "text": [
      "21/08/14 14:20:30 WARN Utils: Your hostname, jagatowski-ThinkPad-L480 resolves to a loopback address: 127.0.1.1; using 192.168.43.93 instead (on interface wlp6s0)\n",
      "21/08/14 14:20:30 WARN Utils: Set SPARK_LOCAL_IP if you need to bind to another address\n",
      "WARNING: An illegal reflective access operation has occurred\n",
      "WARNING: Illegal reflective access by org.apache.spark.unsafe.Platform (file:/home/jagatowski/projects/dsinaction/posts/spark-docker/venv/lib/python3.8/site-packages/pyspark/jars/spark-unsafe_2.12-3.1.2.jar) to constructor java.nio.DirectByteBuffer(long,int)\n",
      "WARNING: Please consider reporting this to the maintainers of org.apache.spark.unsafe.Platform\n",
      "WARNING: Use --illegal-access=warn to enable warnings of further illegal reflective access operations\n",
      "WARNING: All illegal access operations will be denied in a future release\n",
      "21/08/14 14:20:30 WARN NativeCodeLoader: Unable to load native-hadoop library for your platform... using builtin-java classes where applicable\n",
      "Using Spark's default log4j profile: org/apache/spark/log4j-defaults.properties\n",
      "Setting default log level to \"WARN\".\n",
      "To adjust logging level use sc.setLogLevel(newLevel). For SparkR, use setLogLevel(newLevel).\n"
     ]
    },
    {
     "data": {
      "text/html": [
       "\n",
       "            <div>\n",
       "                <p><b>SparkSession - in-memory</b></p>\n",
       "                \n",
       "        <div>\n",
       "            <p><b>SparkContext</b></p>\n",
       "\n",
       "            <p><a href=\"http://192.168.43.93:4040\">Spark UI</a></p>\n",
       "\n",
       "            <dl>\n",
       "              <dt>Version</dt>\n",
       "                <dd><code>v3.1.2</code></dd>\n",
       "              <dt>Master</dt>\n",
       "                <dd><code>spark://localhost:7077</code></dd>\n",
       "              <dt>AppName</dt>\n",
       "                <dd><code>spark-jupyter</code></dd>\n",
       "            </dl>\n",
       "        </div>\n",
       "        \n",
       "            </div>\n",
       "        "
      ],
      "text/plain": [
       "<pyspark.sql.session.SparkSession at 0x7f4c002fb580>"
      ]
     },
     "execution_count": 2,
     "metadata": {},
     "output_type": "execute_result"
    }
   ],
   "source": [
    "spark = SparkSession.builder\\\n",
    "    .master('spark://localhost:7077')\\\n",
    "    .appName('spark-jupyter')\\\n",
    "    .getOrCreate()\n",
    "\n",
    "spark"
   ]
  },
  {
   "cell_type": "markdown",
   "id": "b6984e3a",
   "metadata": {},
   "source": [
    "## Words Count"
   ]
  },
  {
   "cell_type": "code",
   "execution_count": 31,
   "id": "d879121e",
   "metadata": {},
   "outputs": [],
   "source": [
    "from pyspark.sql.functions import split, col, explode, lower, count, length"
   ]
  },
  {
   "cell_type": "code",
   "execution_count": 3,
   "id": "8c204f4a",
   "metadata": {},
   "outputs": [],
   "source": [
    "lines = spark.read.text('/tmp/cluster-data/pg5200.txt')"
   ]
  },
  {
   "cell_type": "code",
   "execution_count": 38,
   "id": "ca8b99ec",
   "metadata": {},
   "outputs": [
    {
     "name": "stderr",
     "output_type": "stream",
     "text": [
      "\r",
      "[Stage 28:=====================================>                (138 + 2) / 200]\r",
      "\r",
      "[Stage 28:=================================================>    (182 + 4) / 200]\r"
     ]
    },
    {
     "name": "stdout",
     "output_type": "stream",
     "text": [
      "+--------+---+\n",
      "|    word|  n|\n",
      "+--------+---+\n",
      "|   would|184|\n",
      "|  gregor|168|\n",
      "|   could|118|\n",
      "|gregor's| 99|\n",
      "|   there| 87|\n",
      "| project| 83|\n",
      "|  sister| 77|\n",
      "|  father| 72|\n",
      "|   their| 70|\n",
      "|   about| 66|\n",
      "+--------+---+\n",
      "only showing top 10 rows\n",
      "\n"
     ]
    },
    {
     "name": "stderr",
     "output_type": "stream",
     "text": [
      "\r",
      "                                                                                \r"
     ]
    }
   ],
   "source": [
    "lines.select(split(col('value'), ' ').alias('words')) \\\n",
    "    .select(explode(col('words')).alias('word')) \\\n",
    "    .select(lower(col('word')).alias('word')) \\\n",
    "    .filter(length(col('word')) > 4) \\\n",
    "    .groupBy('word') \\\n",
    "    .agg(count('word').alias('n')) \\\n",
    "    .orderBy(col('n').desc()) \\\n",
    "    .show(10)"
   ]
  }
 ],
 "metadata": {
  "kernelspec": {
   "display_name": "Python 3",
   "language": "python",
   "name": "python3"
  },
  "language_info": {
   "codemirror_mode": {
    "name": "ipython",
    "version": 3
   },
   "file_extension": ".py",
   "mimetype": "text/x-python",
   "name": "python",
   "nbconvert_exporter": "python",
   "pygments_lexer": "ipython3",
   "version": "3.8.10"
  }
 },
 "nbformat": 4,
 "nbformat_minor": 5
}
